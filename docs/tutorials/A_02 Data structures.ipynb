{
 "cells": [
  {
   "cell_type": "markdown",
   "metadata": {},
   "source": [
    ">\n",
    "> # MaaS Sim tutorial\n",
    ">\n",
    "> ## Data structures, pandas DataFrames\n",
    ">\n",
    "-----\n",
    "MaasSim uses:\n",
    "* `pandas` to store, read and load the data,\n",
    "* `.csv` format whenever we stor the\n",
    "* python native `list()` and `dict()` whenever speed is needed, sporadicaly `NamedTuple`"
   ]
  },
  {
   "cell_type": "markdown",
   "metadata": {},
   "source": [
    "## 1. Main containers (data structures)\n",
    "* `inData` is a nested dictionary of variables (*DotMap - see below*) being input for the simulations\n",
    "* `params` is a *DotMap* of all the parameters needed to run the simulation, it is defined in `params.ipynb` (see tutorial on Config)\n",
    "* `sim` is a *DotMap* of all the variables changing during the simulation"
   ]
  },
  {
   "cell_type": "markdown",
   "metadata": {},
   "source": [
    "# 2. `inData`"
   ]
  },
  {
   "cell_type": "code",
   "execution_count": 1,
   "metadata": {},
   "outputs": [],
   "source": [
    "import os, sys # add MaaSSim to path (not needed if MaaSSim is already in path)\n",
    "module_path = os.path.abspath(os.path.join('../..'))\n",
    "if module_path not in sys.path:\n",
    "    sys.path.append(module_path)\n",
    "from MaaSSim.data_structures import structures as inData\n",
    "from MaaSSim.simulators import simulate\n",
    "import MaaSSim.utils"
   ]
  },
  {
   "cell_type": "code",
   "execution_count": 4,
   "metadata": {},
   "outputs": [],
   "source": [
    "params = MaaSSim.utils.get_config('../../data/config/default.json', set_t0 = True) # load the default\n",
    "inData = MaaSSim.utils.load_G(inData, params) \n",
    "inData = MaaSSim.utils.prep_supply_and_demand(inData, params)"
   ]
  },
  {
   "cell_type": "markdown",
   "metadata": {},
   "source": [
    "tables in inData"
   ]
  },
  {
   "cell_type": "code",
   "execution_count": 5,
   "metadata": {},
   "outputs": [
    {
     "name": "stdout",
     "output_type": "stream",
     "text": [
      "inData.passengers\n",
      "inData.vehicles\n",
      "inData.platforms\n",
      "inData.requests\n",
      "inData.schedule\n",
      "inData.G\n",
      "inData.nodes\n",
      "inData.skim\n",
      "inData.stats\n"
     ]
    }
   ],
   "source": [
    "keys = [print('inData.'+key) for key in inData.keys()]"
   ]
  },
  {
   "cell_type": "code",
   "execution_count": 6,
   "metadata": {},
   "outputs": [
    {
     "data": {
      "text/html": [
       "<div>\n",
       "<style scoped>\n",
       "    .dataframe tbody tr th:only-of-type {\n",
       "        vertical-align: middle;\n",
       "    }\n",
       "\n",
       "    .dataframe tbody tr th {\n",
       "        vertical-align: top;\n",
       "    }\n",
       "\n",
       "    .dataframe thead th {\n",
       "        text-align: right;\n",
       "    }\n",
       "</style>\n",
       "<table border=\"1\" class=\"dataframe\">\n",
       "  <thead>\n",
       "    <tr style=\"text-align: right;\">\n",
       "      <th></th>\n",
       "      <th>pos</th>\n",
       "      <th>event</th>\n",
       "      <th>platforms</th>\n",
       "    </tr>\n",
       "  </thead>\n",
       "  <tbody>\n",
       "    <tr>\n",
       "      <th>0</th>\n",
       "      <td>45020096</td>\n",
       "      <td>NaN</td>\n",
       "      <td>[0]</td>\n",
       "    </tr>\n",
       "    <tr>\n",
       "      <th>1</th>\n",
       "      <td>500966010</td>\n",
       "      <td>NaN</td>\n",
       "      <td>[0]</td>\n",
       "    </tr>\n",
       "    <tr>\n",
       "      <th>2</th>\n",
       "      <td>44990927</td>\n",
       "      <td>NaN</td>\n",
       "      <td>[0]</td>\n",
       "    </tr>\n",
       "  </tbody>\n",
       "</table>\n",
       "</div>"
      ],
      "text/plain": [
       "         pos event platforms\n",
       "0   45020096   NaN       [0]\n",
       "1  500966010   NaN       [0]\n",
       "2   44990927   NaN       [0]"
      ]
     },
     "execution_count": 6,
     "metadata": {},
     "output_type": "execute_result"
    }
   ],
   "source": [
    "inData.passengers.head(3) # passengers with their id, position, and status"
   ]
  },
  {
   "cell_type": "code",
   "execution_count": 7,
   "metadata": {},
   "outputs": [
    {
     "data": {
      "text/html": [
       "<div>\n",
       "<style scoped>\n",
       "    .dataframe tbody tr th:only-of-type {\n",
       "        vertical-align: middle;\n",
       "    }\n",
       "\n",
       "    .dataframe tbody tr th {\n",
       "        vertical-align: top;\n",
       "    }\n",
       "\n",
       "    .dataframe thead th {\n",
       "        text-align: right;\n",
       "    }\n",
       "</style>\n",
       "<table border=\"1\" class=\"dataframe\">\n",
       "  <thead>\n",
       "    <tr style=\"text-align: right;\">\n",
       "      <th></th>\n",
       "      <th>pos</th>\n",
       "      <th>event</th>\n",
       "      <th>shift_start</th>\n",
       "      <th>shift_end</th>\n",
       "      <th>platform</th>\n",
       "      <th>expected_income</th>\n",
       "    </tr>\n",
       "  </thead>\n",
       "  <tbody>\n",
       "    <tr>\n",
       "      <th>1</th>\n",
       "      <td>44976029</td>\n",
       "      <td>driverEvent.STARTS_DAY</td>\n",
       "      <td>0</td>\n",
       "      <td>86400</td>\n",
       "      <td>0</td>\n",
       "      <td>NaN</td>\n",
       "    </tr>\n",
       "    <tr>\n",
       "      <th>2</th>\n",
       "      <td>472323872</td>\n",
       "      <td>driverEvent.STARTS_DAY</td>\n",
       "      <td>0</td>\n",
       "      <td>86400</td>\n",
       "      <td>0</td>\n",
       "      <td>NaN</td>\n",
       "    </tr>\n",
       "    <tr>\n",
       "      <th>3</th>\n",
       "      <td>510874621</td>\n",
       "      <td>driverEvent.STARTS_DAY</td>\n",
       "      <td>0</td>\n",
       "      <td>86400</td>\n",
       "      <td>0</td>\n",
       "      <td>NaN</td>\n",
       "    </tr>\n",
       "  </tbody>\n",
       "</table>\n",
       "</div>"
      ],
      "text/plain": [
       "         pos                   event  shift_start  shift_end  platform  \\\n",
       "1   44976029  driverEvent.STARTS_DAY            0      86400         0   \n",
       "2  472323872  driverEvent.STARTS_DAY            0      86400         0   \n",
       "3  510874621  driverEvent.STARTS_DAY            0      86400         0   \n",
       "\n",
       "   expected_income  \n",
       "1              NaN  \n",
       "2              NaN  \n",
       "3              NaN  "
      ]
     },
     "execution_count": 7,
     "metadata": {},
     "output_type": "execute_result"
    }
   ],
   "source": [
    "inData.vehicles.head(3) # vehicles with their id, position, and status"
   ]
  },
  {
   "cell_type": "code",
   "execution_count": 8,
   "metadata": {},
   "outputs": [
    {
     "data": {
      "text/html": [
       "<div>\n",
       "<style scoped>\n",
       "    .dataframe tbody tr th:only-of-type {\n",
       "        vertical-align: middle;\n",
       "    }\n",
       "\n",
       "    .dataframe tbody tr th {\n",
       "        vertical-align: top;\n",
       "    }\n",
       "\n",
       "    .dataframe thead th {\n",
       "        text-align: right;\n",
       "    }\n",
       "</style>\n",
       "<table border=\"1\" class=\"dataframe\">\n",
       "  <thead>\n",
       "    <tr style=\"text-align: right;\">\n",
       "      <th></th>\n",
       "      <th>pax_id</th>\n",
       "      <th>origin</th>\n",
       "      <th>destination</th>\n",
       "      <th>treq</th>\n",
       "      <th>ttrav</th>\n",
       "      <th>tarr</th>\n",
       "      <th>shareable</th>\n",
       "      <th>dist</th>\n",
       "      <th>platform</th>\n",
       "    </tr>\n",
       "  </thead>\n",
       "  <tbody>\n",
       "    <tr>\n",
       "      <th>0</th>\n",
       "      <td>0</td>\n",
       "      <td>45020096</td>\n",
       "      <td>44985747</td>\n",
       "      <td>2020-10-01 10:14:54</td>\n",
       "      <td>00:02:52</td>\n",
       "      <td>2020-10-01 10:17:46</td>\n",
       "      <td>False</td>\n",
       "      <td>1726</td>\n",
       "      <td>0</td>\n",
       "    </tr>\n",
       "    <tr>\n",
       "      <th>1</th>\n",
       "      <td>1</td>\n",
       "      <td>500966010</td>\n",
       "      <td>2802457954</td>\n",
       "      <td>2020-10-01 10:15:58</td>\n",
       "      <td>00:04:46</td>\n",
       "      <td>2020-10-01 10:20:44</td>\n",
       "      <td>False</td>\n",
       "      <td>2867</td>\n",
       "      <td>0</td>\n",
       "    </tr>\n",
       "    <tr>\n",
       "      <th>2</th>\n",
       "      <td>2</td>\n",
       "      <td>44990927</td>\n",
       "      <td>44970065</td>\n",
       "      <td>2020-10-01 10:21:16</td>\n",
       "      <td>00:02:50</td>\n",
       "      <td>2020-10-01 10:24:06</td>\n",
       "      <td>False</td>\n",
       "      <td>1700</td>\n",
       "      <td>0</td>\n",
       "    </tr>\n",
       "    <tr>\n",
       "      <th>3</th>\n",
       "      <td>3</td>\n",
       "      <td>45000745</td>\n",
       "      <td>5040974850</td>\n",
       "      <td>2020-10-01 10:24:36</td>\n",
       "      <td>00:02:10</td>\n",
       "      <td>2020-10-01 10:26:46</td>\n",
       "      <td>False</td>\n",
       "      <td>1301</td>\n",
       "      <td>0</td>\n",
       "    </tr>\n",
       "    <tr>\n",
       "      <th>4</th>\n",
       "      <td>4</td>\n",
       "      <td>45022840</td>\n",
       "      <td>45017583</td>\n",
       "      <td>2020-10-01 10:28:37</td>\n",
       "      <td>00:00:21</td>\n",
       "      <td>2020-10-01 10:28:58</td>\n",
       "      <td>False</td>\n",
       "      <td>217</td>\n",
       "      <td>0</td>\n",
       "    </tr>\n",
       "  </tbody>\n",
       "</table>\n",
       "</div>"
      ],
      "text/plain": [
       "   pax_id     origin  destination                treq    ttrav  \\\n",
       "0       0   45020096     44985747 2020-10-01 10:14:54 00:02:52   \n",
       "1       1  500966010   2802457954 2020-10-01 10:15:58 00:04:46   \n",
       "2       2   44990927     44970065 2020-10-01 10:21:16 00:02:50   \n",
       "3       3   45000745   5040974850 2020-10-01 10:24:36 00:02:10   \n",
       "4       4   45022840     45017583 2020-10-01 10:28:37 00:00:21   \n",
       "\n",
       "                 tarr  shareable  dist  platform  \n",
       "0 2020-10-01 10:17:46      False  1726         0  \n",
       "1 2020-10-01 10:20:44      False  2867         0  \n",
       "2 2020-10-01 10:24:06      False  1700         0  \n",
       "3 2020-10-01 10:26:46      False  1301         0  \n",
       "4 2020-10-01 10:28:58      False   217         0  "
      ]
     },
     "execution_count": 8,
     "metadata": {},
     "output_type": "execute_result"
    }
   ],
   "source": [
    "inData.requests.treq = inData.requests.treq.dt.round('1s') # for display only\n",
    "inData.requests.tarr = inData.requests.tarr.dt.round('1s')\n",
    "inData.requests.ttrav = inData.requests.ttrav.dt.round('1s')\n",
    "inData.requests.head().dropna(axis=1)"
   ]
  },
  {
   "cell_type": "code",
   "execution_count": 9,
   "metadata": {},
   "outputs": [
    {
     "name": "stdout",
     "output_type": "stream",
     "text": [
      "each request defined through:\n",
      "pax_id\n",
      "origin\n",
      "destination\n",
      "treq\n",
      "ttrav\n",
      "tarr\n",
      "shareable\n",
      "dist\n",
      "platform\n"
     ]
    }
   ],
   "source": [
    "print('each request defined through:')\n",
    "for col in inData.requests.head().dropna(axis=1).columns:\n",
    "    print(col)"
   ]
  },
  {
   "cell_type": "code",
   "execution_count": 10,
   "metadata": {},
   "outputs": [
    {
     "data": {
      "text/plain": [
       "<networkx.classes.multidigraph.MultiDiGraph at 0x127758f90>"
      ]
     },
     "execution_count": 10,
     "metadata": {},
     "output_type": "execute_result"
    }
   ],
   "source": [
    "inData.G # graph (networkX object)"
   ]
  },
  {
   "cell_type": "code",
   "execution_count": 11,
   "metadata": {},
   "outputs": [
    {
     "data": {
      "text/html": [
       "<div>\n",
       "<style scoped>\n",
       "    .dataframe tbody tr th:only-of-type {\n",
       "        vertical-align: middle;\n",
       "    }\n",
       "\n",
       "    .dataframe tbody tr th {\n",
       "        vertical-align: top;\n",
       "    }\n",
       "\n",
       "    .dataframe thead th {\n",
       "        text-align: right;\n",
       "    }\n",
       "</style>\n",
       "<table border=\"1\" class=\"dataframe\">\n",
       "  <thead>\n",
       "    <tr style=\"text-align: right;\">\n",
       "      <th></th>\n",
       "      <th>y</th>\n",
       "      <th>x</th>\n",
       "      <th>osmid</th>\n",
       "      <th>highway</th>\n",
       "    </tr>\n",
       "  </thead>\n",
       "  <tbody>\n",
       "    <tr>\n",
       "      <th>45008896</th>\n",
       "      <td>52.046208</td>\n",
       "      <td>4.390193</td>\n",
       "      <td>45008896</td>\n",
       "      <td>NaN</td>\n",
       "    </tr>\n",
       "    <tr>\n",
       "      <th>45035529</th>\n",
       "      <td>52.052429</td>\n",
       "      <td>4.402417</td>\n",
       "      <td>45035529</td>\n",
       "      <td>NaN</td>\n",
       "    </tr>\n",
       "    <tr>\n",
       "      <th>662403083</th>\n",
       "      <td>52.038869</td>\n",
       "      <td>4.407402</td>\n",
       "      <td>662403083</td>\n",
       "      <td>NaN</td>\n",
       "    </tr>\n",
       "    <tr>\n",
       "      <th>520773643</th>\n",
       "      <td>52.049816</td>\n",
       "      <td>4.385876</td>\n",
       "      <td>520773643</td>\n",
       "      <td>traffic_signals</td>\n",
       "    </tr>\n",
       "    <tr>\n",
       "      <th>44998670</th>\n",
       "      <td>52.044315</td>\n",
       "      <td>4.400431</td>\n",
       "      <td>44998670</td>\n",
       "      <td>NaN</td>\n",
       "    </tr>\n",
       "  </tbody>\n",
       "</table>\n",
       "</div>"
      ],
      "text/plain": [
       "                   y         x      osmid          highway\n",
       "45008896   52.046208  4.390193   45008896              NaN\n",
       "45035529   52.052429  4.402417   45035529              NaN\n",
       "662403083  52.038869  4.407402  662403083              NaN\n",
       "520773643  52.049816  4.385876  520773643  traffic_signals\n",
       "44998670   52.044315  4.400431   44998670              NaN"
      ]
     },
     "execution_count": 11,
     "metadata": {},
     "output_type": "execute_result"
    }
   ],
   "source": [
    "inData.nodes.head() # nodes"
   ]
  },
  {
   "cell_type": "code",
   "execution_count": 12,
   "metadata": {},
   "outputs": [
    {
     "data": {
      "text/html": [
       "<div>\n",
       "<style scoped>\n",
       "    .dataframe tbody tr th:only-of-type {\n",
       "        vertical-align: middle;\n",
       "    }\n",
       "\n",
       "    .dataframe tbody tr th {\n",
       "        vertical-align: top;\n",
       "    }\n",
       "\n",
       "    .dataframe thead th {\n",
       "        text-align: right;\n",
       "    }\n",
       "</style>\n",
       "<table border=\"1\" class=\"dataframe\">\n",
       "  <thead>\n",
       "    <tr style=\"text-align: right;\">\n",
       "      <th></th>\n",
       "      <th>45009726</th>\n",
       "      <th>45007341</th>\n",
       "      <th>45006058</th>\n",
       "      <th>45004316</th>\n",
       "    </tr>\n",
       "  </thead>\n",
       "  <tbody>\n",
       "    <tr>\n",
       "      <th>45008896</th>\n",
       "      <td>35</td>\n",
       "      <td>121</td>\n",
       "      <td>158</td>\n",
       "      <td>214</td>\n",
       "    </tr>\n",
       "    <tr>\n",
       "      <th>45035529</th>\n",
       "      <td>3299</td>\n",
       "      <td>3385</td>\n",
       "      <td>3422</td>\n",
       "      <td>3294</td>\n",
       "    </tr>\n",
       "    <tr>\n",
       "      <th>662403083</th>\n",
       "      <td>2453</td>\n",
       "      <td>2539</td>\n",
       "      <td>2576</td>\n",
       "      <td>2448</td>\n",
       "    </tr>\n",
       "    <tr>\n",
       "      <th>520773643</th>\n",
       "      <td>741</td>\n",
       "      <td>827</td>\n",
       "      <td>864</td>\n",
       "      <td>735</td>\n",
       "    </tr>\n",
       "    <tr>\n",
       "      <th>44998670</th>\n",
       "      <td>1350</td>\n",
       "      <td>1436</td>\n",
       "      <td>1473</td>\n",
       "      <td>1345</td>\n",
       "    </tr>\n",
       "  </tbody>\n",
       "</table>\n",
       "</div>"
      ],
      "text/plain": [
       "           45009726  45007341  45006058  45004316\n",
       "45008896         35       121       158       214\n",
       "45035529       3299      3385      3422      3294\n",
       "662403083      2453      2539      2576      2448\n",
       "520773643       741       827       864       735\n",
       "44998670       1350      1436      1473      1345"
      ]
     },
     "execution_count": 12,
     "metadata": {},
     "output_type": "execute_result"
    }
   ],
   "source": [
    "inData.skim.head().iloc[:,1:5] #node x node skim matrix (distance)"
   ]
  },
  {
   "cell_type": "code",
   "execution_count": 14,
   "metadata": {},
   "outputs": [
    {
     "data": {
      "text/plain": [
       "306"
      ]
     },
     "execution_count": 14,
     "metadata": {},
     "output_type": "execute_result"
    }
   ],
   "source": [
    "inData.skim[MaaSSim.utils.rand_node(inData.nodes)][MaaSSim.utils.rand_node(inData.nodes)] #querying the matrix \n",
    "#first we query the row from the pd.dataFrame and the we query the field in the pd.Series\n",
    "# for more advanced calls see e.g. `sim/interactions/match():\n",
    "# veh_times = inData.skim[sim.vehicles.loc[sim.vehQ].pos].loc[request.origin]"
   ]
  },
  {
   "cell_type": "code",
   "execution_count": 15,
   "metadata": {},
   "outputs": [
    {
     "data": {
      "text/plain": [
       "DotMap(center=45002624, radius=1732.0)"
      ]
     },
     "execution_count": 15,
     "metadata": {},
     "output_type": "execute_result"
    }
   ],
   "source": [
    "inData.stats # basic network stats needed for the demand"
   ]
  },
  {
   "cell_type": "markdown",
   "metadata": {},
   "source": [
    "####  DotMaps\n",
    "thanks to the `DotMap` module (or ratehr snippet), we do the following, and keep the nested variables tidy (e.g. in `inData` and `params`"
   ]
  },
  {
   "cell_type": "code",
   "execution_count": 16,
   "metadata": {},
   "outputs": [],
   "source": [
    "from dotmap import DotMap\n",
    "foo = DotMap()\n",
    "foo.name = 'My Name'\n",
    "foo.myData = [1,2,3,4]"
   ]
  },
  {
   "cell_type": "code",
   "execution_count": 17,
   "metadata": {},
   "outputs": [
    {
     "data": {
      "text/plain": [
       "[1, 2, 3, 4]"
      ]
     },
     "execution_count": 17,
     "metadata": {},
     "output_type": "execute_result"
    }
   ],
   "source": [
    "foo.myData"
   ]
  },
  {
   "cell_type": "markdown",
   "metadata": {},
   "source": [
    "# Data types"
   ]
  },
  {
   "cell_type": "code",
   "execution_count": 23,
   "metadata": {},
   "outputs": [],
   "source": [
    "import pandas as pd\n",
    "import numpy as np"
   ]
  },
  {
   "cell_type": "code",
   "execution_count": 24,
   "metadata": {},
   "outputs": [
    {
     "data": {
      "text/html": [
       "<div>\n",
       "<style scoped>\n",
       "    .dataframe tbody tr th:only-of-type {\n",
       "        vertical-align: middle;\n",
       "    }\n",
       "\n",
       "    .dataframe tbody tr th {\n",
       "        vertical-align: top;\n",
       "    }\n",
       "\n",
       "    .dataframe thead th {\n",
       "        text-align: right;\n",
       "    }\n",
       "</style>\n",
       "<table border=\"1\" class=\"dataframe\">\n",
       "  <thead>\n",
       "    <tr style=\"text-align: right;\">\n",
       "      <th></th>\n",
       "      <th>pos</th>\n",
       "      <th>status</th>\n",
       "    </tr>\n",
       "    <tr>\n",
       "      <th>id</th>\n",
       "      <th></th>\n",
       "      <th></th>\n",
       "    </tr>\n",
       "  </thead>\n",
       "  <tbody>\n",
       "  </tbody>\n",
       "</table>\n",
       "</div>"
      ],
      "text/plain": [
       "Empty DataFrame\n",
       "Columns: [pos, status]\n",
       "Index: []"
      ]
     },
     "execution_count": 24,
     "metadata": {},
     "output_type": "execute_result"
    }
   ],
   "source": [
    "pd.DataFrame(columns=['id','pos','status']).set_index('id') #df - a sql-like table"
   ]
  },
  {
   "cell_type": "code",
   "execution_count": 25,
   "metadata": {},
   "outputs": [
    {
     "data": {
      "text/plain": [
       "pax_id                           3\n",
       "origin                    45000745\n",
       "destination             5040974850\n",
       "treq           2020-10-01 10:24:36\n",
       "tdep                           NaN\n",
       "ttrav              0 days 00:02:10\n",
       "tarr           2020-10-01 10:26:46\n",
       "tdrop                          NaN\n",
       "shareable                    False\n",
       "schedule_id                    NaN\n",
       "dist                          1301\n",
       "platform                         0\n",
       "Name: 3, dtype: object"
      ]
     },
     "execution_count": 25,
     "metadata": {},
     "output_type": "execute_result"
    }
   ],
   "source": [
    "inData.requests.loc[3] #single row of df"
   ]
  },
  {
   "cell_type": "code",
   "execution_count": 26,
   "metadata": {},
   "outputs": [
    {
     "data": {
      "text/plain": [
       "0   2020-10-01 11:11:01\n",
       "1   2020-10-01 11:17:28\n",
       "2   2020-10-01 11:09:17\n",
       "3   2020-10-01 11:30:28\n",
       "4   2020-10-01 11:02:56\n",
       "Name: treq, dtype: datetime64[ns]"
      ]
     },
     "execution_count": 26,
     "metadata": {},
     "output_type": "execute_result"
    }
   ],
   "source": [
    "params.t0 = pd.Timestamp.now() #datetime and timedelta\n",
    "treq = np.random.normal(params.simTime*60*60/2, \n",
    "                                params.demand_structure.temporal_dispertion * params.simTime*60*60 /2,\n",
    "                                params.nP) # apply normal distribution on request times\n",
    "\n",
    "inData.requests['treq'] = [params.t0.floor('1s')+pd.Timedelta(int(_),'s') for _ in treq]\n",
    "inData.requests.treq.head()"
   ]
  },
  {
   "cell_type": "code",
   "execution_count": 27,
   "metadata": {},
   "outputs": [
    {
     "data": {
      "text/plain": [
       "Timestamp('2020-10-01 08:20:00')"
      ]
     },
     "execution_count": 27,
     "metadata": {},
     "output_type": "execute_result"
    }
   ],
   "source": [
    "pd.to_datetime('08:20')"
   ]
  },
  {
   "cell_type": "code",
   "execution_count": 28,
   "metadata": {},
   "outputs": [
    {
     "data": {
      "text/plain": [
       "Timedelta('0 days 00:30:00')"
      ]
     },
     "execution_count": 28,
     "metadata": {},
     "output_type": "execute_result"
    }
   ],
   "source": [
    "pd.Timedelta('30m')"
   ]
  },
  {
   "cell_type": "markdown",
   "metadata": {},
   "source": [
    "---\n",
    "(c) Rafał Kucharski, Delft, 2020"
   ]
  }
 ],
 "metadata": {
  "kernelspec": {
   "display_name": "Python 3",
   "language": "python",
   "name": "python3"
  },
  "language_info": {
   "codemirror_mode": {
    "name": "ipython",
    "version": 3
   },
   "file_extension": ".py",
   "mimetype": "text/x-python",
   "name": "python",
   "nbconvert_exporter": "python",
   "pygments_lexer": "ipython3",
   "version": "3.7.6"
  }
 },
 "nbformat": 4,
 "nbformat_minor": 4
}
