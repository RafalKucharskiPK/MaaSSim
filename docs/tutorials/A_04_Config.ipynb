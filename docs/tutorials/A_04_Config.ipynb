{
 "cells": [
  {
   "cell_type": "markdown",
   "metadata": {},
   "source": [
    "## MaaSSim\n",
    "\n",
    "\n",
    "---\n",
    "#### Configuration\n",
    "\n",
    "`MaaSSim` is controlled from `.json` file which can be modified with different parameters to be stored and used in custom experiments\n",
    "\n",
    "---"
   ]
  },
  {
   "cell_type": "markdown",
   "metadata": {},
   "source": [
    "| field | type | default | description |\n",
    "|-------|------|---------|-------------|\n",
    "|   _NAME_    | String |    'Default'     |       name of this configuration      |\n",
    "|   _city_    | String     |    'Nootdorp, Netherlands'     |      query for Open Street Map to download a new graph       |\n",
    "|   _nP_    |  Int    |    20     | demand level (number of trip requests to be generated)        |\n",
    "|   _nV_   |  Int    |     5    |     supply level (number of vehicles to be generated)        |\n",
    "|   _nD_   |  Int    |     1    |     number of days to be simulated        |\n",
    "|   _t0_    |   String   |    '17:00'     |       simulation start (string interpretable as pd.TimeStamp )    |\n",
    "|   _simTime_    |   Int   |    1     |       hours of simulation    |\n",
    "|   _times.*_    |  Int    |         |      duration of respective events       |\n",
    "|   - _request_    |  Int    |    15     |      making a request via app       |\n",
    "|   - _transaction_    |   Int   |    20     |       accepting the request and match      |\n",
    "|   - _pickup_    |   Int   |    30     |       entering the vehicles      |\n",
    "|   - _dropoff_    |   Int   |    10     |       leaving the vechiles      |\n",
    "|   - _patience_    |   Int   |    600     |       maximal time to wait for match before leaving the system      |\n",
    "|   _speeds.*_    |   Int   |         |       mean speeds   [m/s]    |\n",
    "|   - _walk_    |   Int   |    1.2     |       of pedestrians     |\n",
    "|   - _ride_    |   Int   |    1.2     |       of vehicles     |\n",
    "|   _paths.*_    |   urls or paths   |         |       input files    |\n",
    "|   - _G_    |   .graphml   |     '../../data/graphs/Nootdorp.graphml'    |       osmnx graph     |\n",
    "|   - _skim_    |   .csv   |    '../../data/graphs/Nootdorp.csv'     |      node x node distance matrix     |\n",
    "|   _parallel.*_    |      |         |       contol  parallel simulations   |\n",
    "|   - _nThread_    |   Int   |    1.2     |       number of threads     |\n",
    "|   - _nReplications_    |   Int   |    1.2     |       number of replications     |\n",
    "|   _dist_threshold_    |   Int   |    100000     |     maximal distance above which requests have no connection and are dropped    |\n"
   ]
  },
  {
   "cell_type": "code",
   "execution_count": 1,
   "metadata": {},
   "outputs": [],
   "source": [
    "import os, sys # add MaaSSim to path (not needed if MaaSSim is already in path)\n",
    "module_path = os.path.abspath(os.path.join('../..'))\n",
    "if module_path not in sys.path:\n",
    "    sys.path.append(module_path)\n",
    "import MaaSSim.utils"
   ]
  },
  {
   "cell_type": "markdown",
   "metadata": {},
   "source": [
    "load the default config"
   ]
  },
  {
   "cell_type": "code",
   "execution_count": 2,
   "metadata": {},
   "outputs": [],
   "source": [
    "params = MaaSSim.utils.get_config('../../data/config/default.json') # load the default"
   ]
  },
  {
   "cell_type": "code",
   "execution_count": 3,
   "metadata": {},
   "outputs": [
    {
     "data": {
      "text/plain": [
       "{'NAME': 'default',\n",
       " 'city': 'Nootdorp, Netherlands',\n",
       " 'nP': 20,\n",
       " 'nV': 5,\n",
       " 'times': DotMap(request=15, transaction=20, pickup=30, dropoff=10, patience=600, pickup_patience=90),\n",
       " 'speeds': DotMap(walk=1.2, ride=10),\n",
       " 't0': '17:00',\n",
       " 'paths': DotMap(G='../../data/graphs/Nootdorp.graphml', skim='../../data/graphs/Nootdorp.csv', _ipython_display_=DotMap(), _repr_mimebundle_=DotMap(), _repr_html_=DotMap(), _repr_markdown_=DotMap(), _repr_svg_=DotMap(), _repr_png_=DotMap(), _repr_pdf_=DotMap(), _repr_jpeg_=DotMap(), _repr_latex_=DotMap(), _repr_json_=DotMap(), _repr_javascript_=DotMap()),\n",
       " 'dist_threshold': 100000,\n",
       " 'big_time': 10,\n",
       " 'sleep': False,\n",
       " 'simTime': 1,\n",
       " 'demand_structure': DotMap(origins_dispertion=-0.0003, destinations_dispertion=-0.001, temporal_dispertion=0.3, temporal_distribution='uniform'),\n",
       " 'shareability': DotMap(windows=DotMap(pickup=[-2, 5], dropoff=[-10, 5]), avg_speed=10, shared_discount=0.8, VoT=0.005, WtS=1.2, delay_value=1.5, price=1.5, matching_obj='u_veh', pax_delay=45, horizon=600, max_degree=600, share=0),\n",
       " 'parallel': DotMap(nThread=3, nReplications=2),\n",
       " 'nD': 1,\n",
       " '_ipython_display_': DotMap(),\n",
       " '_repr_mimebundle_': DotMap(),\n",
       " '_repr_html_': DotMap(),\n",
       " '_repr_markdown_': DotMap(),\n",
       " '_repr_svg_': DotMap(),\n",
       " '_repr_png_': DotMap(),\n",
       " '_repr_pdf_': DotMap(),\n",
       " '_repr_jpeg_': DotMap(),\n",
       " '_repr_latex_': DotMap(),\n",
       " '_repr_json_': DotMap(),\n",
       " '_repr_javascript_': DotMap()}"
      ]
     },
     "execution_count": 3,
     "metadata": {},
     "output_type": "execute_result"
    }
   ],
   "source": [
    "dict(params)"
   ]
  },
  {
   "cell_type": "markdown",
   "metadata": {},
   "source": [
    "parameters"
   ]
  },
  {
   "cell_type": "code",
   "execution_count": 4,
   "metadata": {},
   "outputs": [],
   "source": [
    "params.nP = 20 # number of trips\n",
    "params.nV = 5 # number of vehicles"
   ]
  },
  {
   "cell_type": "code",
   "execution_count": 5,
   "metadata": {},
   "outputs": [],
   "source": [
    "params.simTime = 1 # hours\n",
    "params.t0 = '17:00' # start time"
   ]
  },
  {
   "cell_type": "code",
   "execution_count": 6,
   "metadata": {},
   "outputs": [],
   "source": [
    "params.city = 'Nootdorp, Netherlands' # simulated city"
   ]
  },
  {
   "cell_type": "code",
   "execution_count": 7,
   "metadata": {},
   "outputs": [
    {
     "data": {
      "text/plain": [
       "{'walk': 1.2, 'ride': 10}"
      ]
     },
     "execution_count": 7,
     "metadata": {},
     "output_type": "execute_result"
    }
   ],
   "source": [
    "dict(params.speeds)  # walk and ride speed in the city"
   ]
  },
  {
   "cell_type": "code",
   "execution_count": 8,
   "metadata": {},
   "outputs": [
    {
     "data": {
      "text/plain": [
       "{'request': 15,\n",
       " 'transaction': 20,\n",
       " 'pickup': 30,\n",
       " 'dropoff': 10,\n",
       " 'patience': 600,\n",
       " 'pickup_patience': 90}"
      ]
     },
     "execution_count": 8,
     "metadata": {},
     "output_type": "execute_result"
    }
   ],
   "source": [
    "dict(params.times)  # durations of specific simulation events"
   ]
  },
  {
   "cell_type": "code",
   "execution_count": 9,
   "metadata": {},
   "outputs": [
    {
     "data": {
      "text/plain": [
       "{'nThread': 3, 'nReplications': 2}"
      ]
     },
     "execution_count": 9,
     "metadata": {},
     "output_type": "execute_result"
    }
   ],
   "source": [
    "dict(params.parallel)  # parallel runs config"
   ]
  },
  {
   "cell_type": "markdown",
   "metadata": {},
   "source": [
    "playing with paths to files"
   ]
  },
  {
   "cell_type": "code",
   "execution_count": 10,
   "metadata": {},
   "outputs": [
    {
     "data": {
      "text/plain": [
       "'../../data/graphs/Nootdorp.graphml'"
      ]
     },
     "execution_count": 10,
     "metadata": {},
     "output_type": "execute_result"
    }
   ],
   "source": [
    "params = MaaSSim.utils.make_config_paths(params, rel = True) # update paths with you local paths, relative\n",
    "params.paths.G"
   ]
  },
  {
   "cell_type": "code",
   "execution_count": 11,
   "metadata": {},
   "outputs": [
    {
     "data": {
      "text/plain": [
       "'/Users/rkucharski/Documents/GitHub/MaaSSim/data/graphs/Nootdorp.graphml'"
      ]
     },
     "execution_count": 11,
     "metadata": {},
     "output_type": "execute_result"
    }
   ],
   "source": [
    "params = MaaSSim.utils.make_config_paths(params, rel = False) # update paths with you local paths, aboslute\n",
    "params.paths.G"
   ]
  },
  {
   "cell_type": "code",
   "execution_count": 12,
   "metadata": {},
   "outputs": [
    {
     "data": {
      "text/plain": [
       "'/Users/rkucharski/Documents/GitHub/MaaSSim/docs/tutorials/data/graphs/Nootdorp.graphml'"
      ]
     },
     "execution_count": 12,
     "metadata": {},
     "output_type": "execute_result"
    }
   ],
   "source": [
    "params = MaaSSim.utils.make_config_paths(params, main = os.getcwd(), rel = False) # specify folder\n",
    "params.paths.G"
   ]
  },
  {
   "cell_type": "markdown",
   "metadata": {},
   "source": [
    "save"
   ]
  },
  {
   "cell_type": "code",
   "execution_count": 13,
   "metadata": {},
   "outputs": [],
   "source": [
    "MaaSSim.utils.save_config(params, 'my_config.json')"
   ]
  },
  {
   "cell_type": "raw",
   "metadata": {},
   "source": [
    "MaaSSim.utils.save_config(params, '../../data/config/default.json')"
   ]
  },
  {
   "cell_type": "markdown",
   "metadata": {},
   "source": [
    "---\n",
    "(c) Rafał Kucharski, Delft, 2020"
   ]
  },
  {
   "cell_type": "code",
   "execution_count": null,
   "metadata": {},
   "outputs": [],
   "source": []
  }
 ],
 "metadata": {
  "kernelspec": {
   "display_name": "Python 3",
   "language": "python",
   "name": "python3"
  },
  "language_info": {
   "codemirror_mode": {
    "name": "ipython",
    "version": 3
   },
   "file_extension": ".py",
   "mimetype": "text/x-python",
   "name": "python",
   "nbconvert_exporter": "python",
   "pygments_lexer": "ipython3",
   "version": "3.7.6"
  }
 },
 "nbformat": 4,
 "nbformat_minor": 4
}
