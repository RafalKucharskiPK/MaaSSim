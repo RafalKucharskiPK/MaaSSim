{
 "cells": [
  {
   "cell_type": "markdown",
   "metadata": {},
   "source": [
    ">\n",
    "> # MaaS Sim tutorial\n",
    ">\n",
    "> ## Platform operating two sided queues\n",
    ">\n",
    "-----\n",
    "demonstrate if system works fine when `demand>supply`, and `supply>demand`"
   ]
  },
  {
   "cell_type": "code",
   "execution_count": 1,
   "metadata": {},
   "outputs": [],
   "source": [
    "import os, sys # add MaaSSim to path (not needed if MaaSSim is already in path)\n",
    "module_path = os.path.abspath(os.path.join('../..'))\n",
    "if module_path not in sys.path:\n",
    "    sys.path.append(module_path)"
   ]
  },
  {
   "cell_type": "code",
   "execution_count": 2,
   "metadata": {},
   "outputs": [],
   "source": [
    "import MaaSSim\n",
    "import MaaSSim.utils\n",
    "import logging\n",
    "from MaaSSim.simulators import simulate\n",
    "from MaaSSim.driver import VehicleAgent, driverEvent\n",
    "from MaaSSim.utils import initialize_df\n",
    "from MaaSSim.data_structures import structures as inData"
   ]
  },
  {
   "cell_type": "code",
   "execution_count": 3,
   "metadata": {},
   "outputs": [],
   "source": [
    "params = MaaSSim.utils.get_config('../../data/config/default.json')"
   ]
  },
  {
   "cell_type": "code",
   "execution_count": 4,
   "metadata": {},
   "outputs": [],
   "source": [
    "def testQ(params, nP = 10,nV = 10):\n",
    "    params.times.patience = 3600 # 1 hour of simulation\n",
    "    params.simTime = 1 # 1 hour of simulation\n",
    "    params.nP = nP # reuqests (and passengers)\n",
    "    params.nV = nV # vehicles\n",
    "    sim = simulate(params = params)\n",
    "    Qs = sim.runs[0].queues\n",
    "    Qs.groupby('platform')[['vehQ','reqQ']].plot(drawstyle = 'steps-post')    \n",
    "    return sim"
   ]
  },
  {
   "cell_type": "code",
   "execution_count": 5,
   "metadata": {},
   "outputs": [
    {
     "name": "stdout",
     "output_type": "stream",
     "text": [
      "13-10-20 09:59:53-WARNING-Setting up 1h simulation at 2020-10-13 09:32:45 for 5 vehicles and 15 passengers in Nootdorp, Netherlands\n",
      "13-10-20 09:59:53-INFO--------------------\tStarting simulation\t-------------------\n",
      "13-10-20 09:59:53-INFO-pax    1  got to dest at                           2020-10-13 09:37:49\n",
      "13-10-20 09:59:53-INFO-pax    0  got to dest at                           2020-10-13 09:38:55\n",
      "13-10-20 09:59:53-INFO-pax    4  got to dest at                           2020-10-13 09:47:55\n",
      "13-10-20 09:59:53-INFO-pax    3  got to dest at                           2020-10-13 09:48:43\n",
      "13-10-20 09:59:53-INFO-pax    2  got to dest at                           2020-10-13 09:49:23\n",
      "13-10-20 09:59:53-INFO-pax    5  got to dest at                           2020-10-13 09:51:54\n",
      "13-10-20 09:59:53-INFO-pax    6  got to dest at                           2020-10-13 09:56:46\n",
      "13-10-20 09:59:53-INFO-pax    7  got to dest at                           2020-10-13 09:58:17\n",
      "13-10-20 09:59:53-INFO-pax    8  got to dest at                           2020-10-13 10:06:25\n",
      "13-10-20 09:59:53-INFO-pax    9  got to dest at                           2020-10-13 10:07:32\n",
      "13-10-20 09:59:53-INFO-pax   10  got to dest at                           2020-10-13 10:11:17\n",
      "13-10-20 09:59:53-INFO-pax   12  got to dest at                           2020-10-13 10:15:00\n",
      "13-10-20 09:59:53-INFO-pax   11  got to dest at                           2020-10-13 10:16:11\n",
      "13-10-20 09:59:53-INFO-pax   13  got to dest at                           2020-10-13 10:23:59\n",
      "13-10-20 09:59:54-INFO-pax   14  got to dest at                           2020-10-13 10:24:07\n",
      "13-10-20 09:59:54-INFO-veh    4  quitted shift                            2020-10-13 12:32:44\n",
      "13-10-20 09:59:54-INFO-veh    2  quitted shift                            2020-10-13 12:32:44\n",
      "13-10-20 09:59:54-INFO-veh    5  quitted shift                            2020-10-13 12:32:44\n",
      "13-10-20 09:59:54-INFO-veh    1  quitted shift                            2020-10-13 12:32:44\n",
      "13-10-20 09:59:54-INFO-veh    3  quitted shift                            2020-10-13 12:32:44\n",
      "13-10-20 09:59:54-INFO--------------------\tSimulation over\t\t-------------------\n",
      "13-10-20 09:59:54-INFO-queue of requests 0\n",
      "13-10-20 09:59:54-WARNING-simulation time 0.6 s\n",
      "13-10-20 09:59:54-WARNING-assertion tests for simulation results - passed\n"
     ]
    },
    {
     "data": {
      "image/png": "[encoded data removed]",
      "text/plain": [
       "<Figure size 432x288 with 1 Axes>"
      ]
     },
     "metadata": {
      "needs_background": "light"
     },
     "output_type": "display_data"
    }
   ],
   "source": [
    "sim = testQ(params, nP = 15, nV = 5)"
   ]
  },
  {
   "cell_type": "code",
   "execution_count": 6,
   "metadata": {},
   "outputs": [
    {
     "name": "stdout",
     "output_type": "stream",
     "text": [
      "13-10-20 09:59:54-WARNING-Setting up 1h simulation at 2020-10-13 09:34:41 for 50 vehicles and 5 passengers in Nootdorp, Netherlands\n",
      "13-10-20 09:59:54-INFO--------------------\tStarting simulation\t-------------------\n",
      "13-10-20 09:59:54-INFO-pax    0  got to dest at                           2020-10-13 09:41:39\n",
      "13-10-20 09:59:54-INFO-pax    1  got to dest at                           2020-10-13 10:12:31\n",
      "13-10-20 09:59:54-INFO-pax    2  got to dest at                           2020-10-13 10:25:38\n",
      "13-10-20 09:59:54-INFO-pax    3  got to dest at                           2020-10-13 10:27:33\n",
      "13-10-20 09:59:54-INFO-pax    4  got to dest at                           2020-10-13 10:29:34\n",
      "13-10-20 09:59:54-INFO-veh    2  quitted shift                            2020-10-13 12:34:40\n",
      "13-10-20 09:59:54-INFO-veh    3  quitted shift                            2020-10-13 12:34:40\n",
      "13-10-20 09:59:55-INFO-veh    4  quitted shift                            2020-10-13 12:34:40\n",
      "13-10-20 09:59:55-INFO-veh    5  quitted shift                            2020-10-13 12:34:40\n",
      "13-10-20 09:59:55-INFO-veh    6  quitted shift                            2020-10-13 12:34:40\n",
      "13-10-20 09:59:55-INFO-veh    7  quitted shift                            2020-10-13 12:34:40\n",
      "13-10-20 09:59:55-INFO-veh    9  quitted shift                            2020-10-13 12:34:40\n",
      "13-10-20 09:59:55-INFO-veh   10  quitted shift                            2020-10-13 12:34:40\n",
      "13-10-20 09:59:55-INFO-veh   12  quitted shift                            2020-10-13 12:34:40\n",
      "13-10-20 09:59:55-INFO-veh   13  quitted shift                            2020-10-13 12:34:40\n",
      "13-10-20 09:59:55-INFO-veh   14  quitted shift                            2020-10-13 12:34:40\n",
      "13-10-20 09:59:55-INFO-veh   15  quitted shift                            2020-10-13 12:34:40\n",
      "13-10-20 09:59:55-INFO-veh   16  quitted shift                            2020-10-13 12:34:40\n",
      "13-10-20 09:59:55-INFO-veh   17  quitted shift                            2020-10-13 12:34:40\n",
      "13-10-20 09:59:55-INFO-veh   18  quitted shift                            2020-10-13 12:34:40\n",
      "13-10-20 09:59:55-INFO-veh   19  quitted shift                            2020-10-13 12:34:40\n",
      "13-10-20 09:59:55-INFO-veh   20  quitted shift                            2020-10-13 12:34:40\n",
      "13-10-20 09:59:55-INFO-veh   21  quitted shift                            2020-10-13 12:34:40\n",
      "13-10-20 09:59:55-INFO-veh   22  quitted shift                            2020-10-13 12:34:40\n",
      "13-10-20 09:59:55-INFO-veh   23  quitted shift                            2020-10-13 12:34:40\n",
      "13-10-20 09:59:55-INFO-veh   24  quitted shift                            2020-10-13 12:34:40\n",
      "13-10-20 09:59:55-INFO-veh   26  quitted shift                            2020-10-13 12:34:40\n",
      "13-10-20 09:59:55-INFO-veh   27  quitted shift                            2020-10-13 12:34:40\n",
      "13-10-20 09:59:55-INFO-veh   28  quitted shift                            2020-10-13 12:34:40\n",
      "13-10-20 09:59:55-INFO-veh   29  quitted shift                            2020-10-13 12:34:40\n",
      "13-10-20 09:59:55-INFO-veh   30  quitted shift                            2020-10-13 12:34:40\n",
      "13-10-20 09:59:55-INFO-veh   32  quitted shift                            2020-10-13 12:34:40\n",
      "13-10-20 09:59:55-INFO-veh   33  quitted shift                            2020-10-13 12:34:40\n",
      "13-10-20 09:59:55-INFO-veh   34  quitted shift                            2020-10-13 12:34:40\n",
      "13-10-20 09:59:55-INFO-veh   35  quitted shift                            2020-10-13 12:34:40\n",
      "13-10-20 09:59:55-INFO-veh   36  quitted shift                            2020-10-13 12:34:40\n",
      "13-10-20 09:59:55-INFO-veh   37  quitted shift                            2020-10-13 12:34:40\n",
      "13-10-20 09:59:55-INFO-veh   38  quitted shift                            2020-10-13 12:34:40\n",
      "13-10-20 09:59:55-INFO-veh   39  quitted shift                            2020-10-13 12:34:40\n",
      "13-10-20 09:59:55-INFO-veh   40  quitted shift                            2020-10-13 12:34:40\n",
      "13-10-20 09:59:55-INFO-veh   41  quitted shift                            2020-10-13 12:34:40\n",
      "13-10-20 09:59:55-INFO-veh   42  quitted shift                            2020-10-13 12:34:40\n",
      "13-10-20 09:59:55-INFO-veh   43  quitted shift                            2020-10-13 12:34:40\n",
      "13-10-20 09:59:55-INFO-veh   44  quitted shift                            2020-10-13 12:34:40\n",
      "13-10-20 09:59:55-INFO-veh   45  quitted shift                            2020-10-13 12:34:40\n",
      "13-10-20 09:59:55-INFO-veh   46  quitted shift                            2020-10-13 12:34:40\n",
      "13-10-20 09:59:55-INFO-veh   47  quitted shift                            2020-10-13 12:34:40\n",
      "13-10-20 09:59:55-INFO-veh   48  quitted shift                            2020-10-13 12:34:40\n",
      "13-10-20 09:59:55-INFO-veh   49  quitted shift                            2020-10-13 12:34:40\n",
      "13-10-20 09:59:55-INFO-veh   50  quitted shift                            2020-10-13 12:34:40\n",
      "13-10-20 09:59:55-INFO-veh    1  quitted shift                            2020-10-13 12:34:40\n",
      "13-10-20 09:59:55-INFO-veh   31  quitted shift                            2020-10-13 12:34:40\n",
      "13-10-20 09:59:55-INFO-veh    8  quitted shift                            2020-10-13 12:34:40\n",
      "13-10-20 09:59:55-INFO-veh   25  quitted shift                            2020-10-13 12:34:40\n",
      "13-10-20 09:59:55-INFO-veh   11  quitted shift                            2020-10-13 12:34:40\n",
      "13-10-20 09:59:55-INFO--------------------\tSimulation over\t\t-------------------\n",
      "13-10-20 09:59:55-INFO-queue of requests 0\n",
      "13-10-20 09:59:55-WARNING-simulation time 0.5 s\n",
      "13-10-20 09:59:55-WARNING-assertion tests for simulation results - passed\n"
     ]
    },
    {
     "data": {
      "text/plain": [
       "<MaaSSim.maassim.Simulator at 0x120abc250>"
      ]
     },
     "execution_count": 6,
     "metadata": {},
     "output_type": "execute_result"
    },
    {
     "data": {
      "image/png": "[encoded data removed]",
      "text/plain": [
       "<Figure size 432x288 with 1 Axes>"
      ]
     },
     "metadata": {
      "needs_background": "light"
     },
     "output_type": "display_data"
    }
   ],
   "source": [
    "testQ(params, nP = 5, nV = 50)"
   ]
  },
  {
   "cell_type": "code",
   "execution_count": 7,
   "metadata": {},
   "outputs": [
    {
     "name": "stdout",
     "output_type": "stream",
     "text": [
      "13-10-20 09:59:55-WARNING-Setting up 1h simulation at 2020-10-13 09:30:21 for 3 vehicles and 50 passengers in Nootdorp, Netherlands\n",
      "13-10-20 09:59:55-INFO--------------------\tStarting simulation\t-------------------\n",
      "13-10-20 09:59:56-INFO-pax    0  got to dest at                           2020-10-13 09:37:28\n",
      "13-10-20 09:59:56-INFO-pax    2  got to dest at                           2020-10-13 09:37:46\n",
      "13-10-20 09:59:56-INFO-pax    1  got to dest at                           2020-10-13 09:38:19\n",
      "13-10-20 09:59:56-INFO-pax    5  got to dest at                           2020-10-13 09:44:54\n",
      "13-10-20 09:59:56-INFO-pax    4  got to dest at                           2020-10-13 09:47:39\n",
      "13-10-20 09:59:56-INFO-pax   11  got to dest at                           2020-10-13 09:48:47\n",
      "13-10-20 09:59:56-INFO-pax    3  got to dest at                           2020-10-13 09:48:55\n",
      "13-10-20 09:59:56-INFO-pax    6  got to dest at                           2020-10-13 09:51:20\n",
      "13-10-20 09:59:56-INFO-pax   12  got to dest at                           2020-10-13 09:51:28\n",
      "13-10-20 09:59:56-INFO-pax   16  got to dest at                           2020-10-13 09:53:17\n",
      "13-10-20 09:59:56-INFO-pax   14  got to dest at                           2020-10-13 09:53:42\n",
      "13-10-20 09:59:56-INFO-pax   20  got to dest at                           2020-10-13 09:55:31\n",
      "13-10-20 09:59:56-INFO-pax    8  got to dest at                           2020-10-13 09:56:06\n",
      "13-10-20 09:59:56-INFO-pax   10  got to dest at                           2020-10-13 09:59:57\n",
      "13-10-20 09:59:56-INFO-pax   18  got to dest at                           2020-10-13 10:00:30\n",
      "13-10-20 09:59:56-INFO-pax    7  got to dest at                           2020-10-13 10:01:53\n",
      "13-10-20 09:59:56-INFO-pax   23  got to dest at                           2020-10-13 10:02:49\n",
      "13-10-20 09:59:56-INFO-pax   25  got to dest at                           2020-10-13 10:03:57\n",
      "13-10-20 09:59:56-INFO-pax   28  got to dest at                           2020-10-13 10:04:43\n",
      "13-10-20 09:59:56-INFO-pax   13  got to dest at                           2020-10-13 10:04:53\n",
      "13-10-20 09:59:56-INFO-pax   29  got to dest at                           2020-10-13 10:07:05\n",
      "13-10-20 09:59:56-INFO-pax   30  got to dest at                           2020-10-13 10:07:37\n",
      "13-10-20 09:59:57-INFO-pax   31  got to dest at                           2020-10-13 10:09:08\n",
      "13-10-20 09:59:57-INFO-pax   26  got to dest at                           2020-10-13 10:09:33\n",
      "13-10-20 09:59:57-INFO-pax   32  got to dest at                           2020-10-13 10:11:57\n",
      "13-10-20 09:59:57-INFO-pax   17  got to dest at                           2020-10-13 10:12:28\n",
      "13-10-20 09:59:57-INFO-pax   24  got to dest at                           2020-10-13 10:12:39\n",
      "13-10-20 09:59:57-INFO-pax   35  got to dest at                           2020-10-13 10:13:45\n",
      "13-10-20 09:59:57-INFO-pax   36  got to dest at                           2020-10-13 10:14:41\n",
      "13-10-20 09:59:57-INFO-pax   34  got to dest at                           2020-10-13 10:16:17\n",
      "13-10-20 09:59:57-INFO-pax   37  got to dest at                           2020-10-13 10:18:04\n",
      "13-10-20 09:59:57-INFO-pax   27  got to dest at                           2020-10-13 10:20:38\n",
      "13-10-20 09:59:57-INFO-pax   38  got to dest at                           2020-10-13 10:21:06\n",
      "13-10-20 09:59:57-INFO-pax   15  got to dest at                           2020-10-13 10:22:33\n",
      "13-10-20 09:59:57-INFO-pax   41  got to dest at                           2020-10-13 10:24:22\n",
      "13-10-20 09:59:57-INFO-pax   42  got to dest at                           2020-10-13 10:25:07\n",
      "13-10-20 09:59:57-INFO-pax   39  got to dest at                           2020-10-13 10:25:23\n",
      "13-10-20 09:59:57-INFO-pax   44  got to dest at                           2020-10-13 10:28:17\n",
      "13-10-20 09:59:57-INFO-pax   43  got to dest at                           2020-10-13 10:29:58\n",
      "13-10-20 09:59:57-INFO-pax   33  got to dest at                           2020-10-13 10:30:19\n",
      "13-10-20 09:59:57-INFO-pax   49  got to dest at                           2020-10-13 10:34:04\n",
      "13-10-20 09:59:57-INFO-pax   21  got to dest at                           2020-10-13 10:34:11\n",
      "13-10-20 09:59:57-INFO-pax   40  got to dest at                           2020-10-13 10:38:38\n",
      "13-10-20 09:59:57-INFO-pax   46  got to dest at                           2020-10-13 10:39:28\n",
      "13-10-20 09:59:57-INFO-pax   19  got to dest at                           2020-10-13 10:40:21\n",
      "13-10-20 09:59:57-INFO-pax    9  has no offers                            2020-10-13 10:41:07\n",
      "13-10-20 09:59:57-INFO-pax    9  lost his patience and left the system    2020-10-13 10:41:07\n",
      "13-10-20 09:59:57-INFO-pax   22  got to dest at                           2020-10-13 10:44:34\n",
      "13-10-20 09:59:57-INFO-pax   45  got to dest at                           2020-10-13 10:45:45\n",
      "13-10-20 09:59:57-INFO-pax   47  got to dest at                           2020-10-13 10:48:28\n",
      "13-10-20 09:59:57-INFO-pax   48  got to dest at                           2020-10-13 10:55:10\n",
      "13-10-20 09:59:57-INFO-veh    2  quitted shift                            2020-10-13 12:30:20\n",
      "13-10-20 09:59:57-INFO-veh    3  quitted shift                            2020-10-13 12:30:20\n",
      "13-10-20 09:59:57-INFO-veh    1  quitted shift                            2020-10-13 12:30:20\n",
      "13-10-20 09:59:57-INFO--------------------\tSimulation over\t\t-------------------\n",
      "13-10-20 09:59:57-INFO-queue of requests 0\n",
      "13-10-20 09:59:57-WARNING-simulation time 1.9 s\n",
      "13-10-20 09:59:58-WARNING-assertion tests for simulation results - passed\n"
     ]
    },
    {
     "data": {
      "text/plain": [
       "<MaaSSim.maassim.Simulator at 0x122267790>"
      ]
     },
     "execution_count": 7,
     "metadata": {},
     "output_type": "execute_result"
    },
    {
     "data": {
      "image/png": "[encoded data removed]",
      "text/plain": [
       "<Figure size 432x288 with 1 Axes>"
      ]
     },
     "metadata": {
      "needs_background": "light"
     },
     "output_type": "display_data"
    }
   ],
   "source": [
    "testQ(params, nP = 50, nV = 3)"
   ]
  },
  {
   "cell_type": "markdown",
   "metadata": {},
   "source": [
    "batched platform"
   ]
  },
  {
   "cell_type": "code",
   "execution_count": 8,
   "metadata": {},
   "outputs": [
    {
     "data": {
      "text/html": [
       "<div>\n",
       "<style scoped>\n",
       "    .dataframe tbody tr th:only-of-type {\n",
       "        vertical-align: middle;\n",
       "    }\n",
       "\n",
       "    .dataframe tbody tr th {\n",
       "        vertical-align: top;\n",
       "    }\n",
       "\n",
       "    .dataframe thead th {\n",
       "        text-align: right;\n",
       "    }\n",
       "</style>\n",
       "<table border=\"1\" class=\"dataframe\">\n",
       "  <thead>\n",
       "    <tr style=\"text-align: right;\">\n",
       "      <th></th>\n",
       "      <th>fare</th>\n",
       "      <th>name</th>\n",
       "      <th>batch_time</th>\n",
       "    </tr>\n",
       "    <tr>\n",
       "      <th>id</th>\n",
       "      <th></th>\n",
       "      <th></th>\n",
       "      <th></th>\n",
       "    </tr>\n",
       "  </thead>\n",
       "  <tbody>\n",
       "    <tr>\n",
       "      <th>0</th>\n",
       "      <td>1</td>\n",
       "      <td>Uber</td>\n",
       "      <td>600</td>\n",
       "    </tr>\n",
       "  </tbody>\n",
       "</table>\n",
       "</div>"
      ],
      "text/plain": [
       "   fare  name batch_time\n",
       "id                      \n",
       "0     1  Uber        600"
      ]
     },
     "execution_count": 8,
     "metadata": {},
     "output_type": "execute_result"
    }
   ],
   "source": [
    "inData.platforms = initialize_df(inData.platforms)\n",
    "inData.platforms.loc[0]=[1,'Uber', 600]\n",
    "inData.platforms"
   ]
  },
  {
   "cell_type": "code",
   "execution_count": 9,
   "metadata": {},
   "outputs": [
    {
     "name": "stdout",
     "output_type": "stream",
     "text": [
      "13-10-20 09:59:58-WARNING-Setting up 1h simulation at 2020-10-13 09:31:25 for 3 vehicles and 50 passengers in Nootdorp, Netherlands\n",
      "13-10-20 09:59:58-INFO--------------------\tStarting simulation\t-------------------\n",
      "13-10-20 09:59:59-INFO-pax    1  got to dest at                           2020-10-13 09:37:49\n",
      "13-10-20 09:59:59-INFO-pax    0  got to dest at                           2020-10-13 09:40:08\n",
      "13-10-20 09:59:59-INFO-pax    2  got to dest at                           2020-10-13 09:40:21\n",
      "13-10-20 09:59:59-INFO-pax    3  got to dest at                           2020-10-13 09:47:49\n",
      "13-10-20 09:59:59-INFO-pax   12  got to dest at                           2020-10-13 09:47:57\n",
      "13-10-20 09:59:59-INFO-pax    9  got to dest at                           2020-10-13 09:50:00\n",
      "13-10-20 09:59:59-INFO-pax   19  got to dest at                           2020-10-13 09:56:25\n",
      "13-10-20 09:59:59-INFO-pax   11  got to dest at                           2020-10-13 09:57:54\n",
      "13-10-20 09:59:59-INFO-pax    8  got to dest at                           2020-10-13 09:58:49\n",
      "13-10-20 09:59:59-INFO-pax   18  got to dest at                           2020-10-13 10:07:36\n",
      "13-10-20 09:59:59-INFO-pax    6  got to dest at                           2020-10-13 10:07:57\n",
      "13-10-20 09:59:59-INFO-pax   28  got to dest at                           2020-10-13 10:10:07\n",
      "13-10-20 09:59:59-INFO-pax   27  got to dest at                           2020-10-13 10:17:06\n",
      "13-10-20 09:59:59-INFO-pax   33  got to dest at                           2020-10-13 10:17:25\n",
      "13-10-20 09:59:59-INFO-pax   32  got to dest at                           2020-10-13 10:20:27\n",
      "13-10-20 09:59:59-INFO-pax   13  got to dest at                           2020-10-13 10:26:24\n",
      "13-10-20 09:59:59-INFO-pax   17  got to dest at                           2020-10-13 10:27:01\n",
      "13-10-20 09:59:59-INFO-pax   38  got to dest at                           2020-10-13 10:28:15\n",
      "13-10-20 10:00:00-INFO-pax    4  has no offers                            2020-10-13 10:36:10\n",
      "13-10-20 10:00:00-INFO-pax    4  lost his patience and left the system    2020-10-13 10:36:10\n",
      "13-10-20 10:00:00-INFO-pax    5  has no offers                            2020-10-13 10:36:21\n",
      "13-10-20 10:00:00-INFO-pax    5  lost his patience and left the system    2020-10-13 10:36:21\n",
      "13-10-20 10:00:00-INFO-pax    7  has no offers                            2020-10-13 10:36:24\n",
      "13-10-20 10:00:00-INFO-pax    7  lost his patience and left the system    2020-10-13 10:36:24\n",
      "13-10-20 10:00:00-INFO-pax   34  got to dest at                           2020-10-13 10:38:34\n",
      "13-10-20 10:00:00-INFO-pax   39  got to dest at                           2020-10-13 10:39:05\n",
      "13-10-20 10:00:00-INFO-pax   10  got to dest at                           2020-10-13 10:39:29\n",
      "13-10-20 10:00:00-INFO-pax   14  has no offers                            2020-10-13 10:44:14\n",
      "13-10-20 10:00:00-INFO-pax   14  lost his patience and left the system    2020-10-13 10:44:14\n",
      "13-10-20 10:00:00-INFO-pax   15  has no offers                            2020-10-13 10:46:24\n",
      "13-10-20 10:00:00-INFO-pax   15  lost his patience and left the system    2020-10-13 10:46:24\n",
      "13-10-20 10:00:00-INFO-pax   16  has no offers                            2020-10-13 10:46:27\n",
      "13-10-20 10:00:00-INFO-pax   16  lost his patience and left the system    2020-10-13 10:46:27\n",
      "13-10-20 10:00:00-INFO-pax   49  got to dest at                           2020-10-13 10:46:54\n",
      "13-10-20 10:00:00-INFO-pax   40  got to dest at                           2020-10-13 10:48:53\n",
      "13-10-20 10:00:00-INFO-pax   47  got to dest at                           2020-10-13 10:48:56\n",
      "13-10-20 10:00:00-INFO-pax   20  has no offers                            2020-10-13 10:49:15\n",
      "13-10-20 10:00:00-INFO-pax   20  lost his patience and left the system    2020-10-13 10:49:15\n",
      "13-10-20 10:00:00-INFO-pax   21  has no offers                            2020-10-13 10:50:47\n",
      "13-10-20 10:00:00-INFO-pax   21  lost his patience and left the system    2020-10-13 10:50:47\n",
      "13-10-20 10:00:00-INFO-pax   22  has no offers                            2020-10-13 10:50:57\n",
      "13-10-20 10:00:00-INFO-pax   22  lost his patience and left the system    2020-10-13 10:50:57\n",
      "13-10-20 10:00:00-INFO-pax   23  has no offers                            2020-10-13 10:51:24\n",
      "13-10-20 10:00:00-INFO-pax   23  lost his patience and left the system    2020-10-13 10:51:24\n",
      "13-10-20 10:00:00-INFO-pax   24  has no offers                            2020-10-13 10:55:54\n",
      "13-10-20 10:00:00-INFO-pax   24  lost his patience and left the system    2020-10-13 10:55:54\n",
      "13-10-20 10:00:00-INFO-pax   31  got to dest at                           2020-10-13 10:58:36\n",
      "13-10-20 10:00:00-INFO-pax   41  got to dest at                           2020-10-13 10:59:09\n",
      "13-10-20 10:00:00-INFO-pax   26  got to dest at                           2020-10-13 11:00:45\n",
      "13-10-20 10:00:00-INFO-pax   25  has no offers                            2020-10-13 11:01:27\n",
      "13-10-20 10:00:00-INFO-pax   25  lost his patience and left the system    2020-10-13 11:01:27\n",
      "13-10-20 10:00:00-INFO-pax   29  has no offers                            2020-10-13 11:06:21\n",
      "13-10-20 10:00:00-INFO-pax   29  lost his patience and left the system    2020-10-13 11:06:21\n",
      "13-10-20 10:00:00-INFO-pax   43  got to dest at                           2020-10-13 11:06:51\n",
      "13-10-20 10:00:00-INFO-pax   46  got to dest at                           2020-10-13 11:07:17\n",
      "13-10-20 10:00:00-INFO-pax   30  has no offers                            2020-10-13 11:07:50\n",
      "13-10-20 10:00:00-INFO-pax   30  lost his patience and left the system    2020-10-13 11:07:50\n",
      "13-10-20 10:00:00-INFO-pax   42  got to dest at                           2020-10-13 11:10:42\n",
      "13-10-20 10:00:00-INFO-pax   35  has no offers                            2020-10-13 11:14:06\n",
      "13-10-20 10:00:00-INFO-pax   35  lost his patience and left the system    2020-10-13 11:14:06\n",
      "13-10-20 10:00:00-INFO-pax   36  has no offers                            2020-10-13 11:15:24\n",
      "13-10-20 10:00:00-INFO-pax   36  lost his patience and left the system    2020-10-13 11:15:24\n",
      "13-10-20 10:00:00-INFO-pax   45  got to dest at                           2020-10-13 11:16:56\n",
      "13-10-20 10:00:00-INFO-pax   48  got to dest at                           2020-10-13 11:18:22\n",
      "13-10-20 10:00:00-INFO-pax   37  got to dest at                           2020-10-13 11:22:05\n",
      "13-10-20 10:00:00-INFO-pax   44  got to dest at                           2020-10-13 11:31:13\n",
      "13-10-20 10:00:00-INFO-veh    2  quitted shift                            2020-10-13 12:31:24\n",
      "13-10-20 10:00:00-INFO-veh    3  quitted shift                            2020-10-13 12:31:24\n",
      "13-10-20 10:00:00-INFO-veh    1  quitted shift                            2020-10-13 12:31:24\n",
      "13-10-20 10:00:00-INFO--------------------\tSimulation over\t\t-------------------\n",
      "13-10-20 10:00:00-INFO-queue of requests 0\n",
      "13-10-20 10:00:00-WARNING-simulation time 1.6 s\n",
      "13-10-20 10:00:00-WARNING-assertion tests for simulation results - passed\n"
     ]
    },
    {
     "data": {
      "text/plain": [
       "platform\n",
       "0    AxesSubplot(0.125,0.125;0.775x0.755)\n",
       "dtype: object"
      ]
     },
     "execution_count": 9,
     "metadata": {},
     "output_type": "execute_result"
    },
    {
     "data": {
      "image/png": "[encoded data removed]",
      "text/plain": [
       "<Figure size 432x288 with 1 Axes>"
      ]
     },
     "metadata": {
      "needs_background": "light"
     },
     "output_type": "display_data"
    }
   ],
   "source": [
    "sim = simulate(params = params, inData = inData, event_based = False)\n",
    "Qs = sim.runs[0].queues\n",
    "Qs.groupby('platform')[['vehQ','reqQ']].plot(drawstyle = 'steps-post')    "
   ]
  },
  {
   "cell_type": "markdown",
   "metadata": {},
   "source": [
    "-------------\n",
    "Rafal Kucharski, 2020, Delft, r.m.kucharski@tudelft.nl"
   ]
  }
 ],
 "metadata": {
  "kernelspec": {
   "display_name": "Python 3",
   "language": "python",
   "name": "python3"
  },
  "language_info": {
   "codemirror_mode": {
    "name": "ipython",
    "version": 3
   },
   "file_extension": ".py",
   "mimetype": "text/x-python",
   "name": "python",
   "nbconvert_exporter": "python",
   "pygments_lexer": "ipython3",
   "version": "3.7.6"
  }
 },
 "nbformat": 4,
 "nbformat_minor": 4
}
